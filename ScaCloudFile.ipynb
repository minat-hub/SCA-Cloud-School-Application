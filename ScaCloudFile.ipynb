{
  "nbformat": 4,
  "nbformat_minor": 0,
  "metadata": {
    "colab": {
      "name": "ScaCloudFile.ipynb",
      "provenance": [],
      "authorship_tag": "ABX9TyNhLwyGvLk+Msz083jR98rU",
      "include_colab_link": true
    },
    "kernelspec": {
      "name": "python3",
      "display_name": "Python 3"
    },
    "language_info": {
      "name": "python"
    }
  },
  "cells": [
    {
      "cell_type": "markdown",
      "metadata": {
        "id": "view-in-github",
        "colab_type": "text"
      },
      "source": [
        "<a href=\"https://colab.research.google.com/github/minat-hub/SCA-Cloud-School-Application/blob/main/ScaCloudFile.ipynb\" target=\"_parent\"><img src=\"https://colab.research.google.com/assets/colab-badge.svg\" alt=\"Open In Colab\"/></a>"
      ]
    },
    {
      "cell_type": "code",
      "metadata": {
        "colab": {
          "base_uri": "https://localhost:8080/"
        },
        "id": "tqO_NY_MItJQ",
        "outputId": "3e943951-12f9-4f89-ed89-38e50e7c302d"
      },
      "source": [
        "sca = \"This is a string that is assigned to the variable sca\"\n",
        "\n",
        "if sca is not int:\n",
        "    print(\"True, Go straight to deployment\")"
      ],
      "execution_count": 4,
      "outputs": [
        {
          "output_type": "stream",
          "text": [
            "True, Go straight to deployment\n"
          ],
          "name": "stdout"
        }
      ]
    }
  ]
}