{
  "nbformat": 4,
  "nbformat_minor": 0,
  "metadata": {
    "colab": {
      "name": "ScaCloudFile.ipynb",
      "provenance": [],
      "authorship_tag": "ABX9TyMYghK+4mX3atgXIZOHmGXv",
      "include_colab_link": true
    },
    "kernelspec": {
      "name": "python3",
      "display_name": "Python 3"
    },
    "language_info": {
      "name": "python"
    }
  },
  "cells": [
    {
      "cell_type": "markdown",
      "metadata": {
        "id": "view-in-github",
        "colab_type": "text"
      },
      "source": [
        "<a href=\"https://colab.research.google.com/github/minat-hub/SCA-Cloud-School-Application/blob/main/ScaCloudFile.ipynb\" target=\"_parent\"><img src=\"https://colab.research.google.com/assets/colab-badge.svg\" alt=\"Open In Colab\"/></a>"
      ]
    },
    {
      "cell_type": "code",
      "metadata": {
        "colab": {
          "base_uri": "https://localhost:8080/"
        },
        "id": "tqO_NY_MItJQ",
        "outputId": "dd90b359-e499-4450-f8a4-b42d35de171c"
      },
      "source": [
        "sca = [1, 2, 3, 4, 5]\n",
        "\n",
        "for s in sca:\n",
        "    print(\"Number\", s)"
      ],
      "execution_count": 6,
      "outputs": [
        {
          "output_type": "stream",
          "text": [
            "Number 1\n",
            "Number 2\n",
            "Number 3\n",
            "Number 4\n",
            "Number 5\n"
          ],
          "name": "stdout"
        }
      ]
    }
  ]
}